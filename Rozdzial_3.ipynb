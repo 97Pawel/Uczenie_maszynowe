{
 "cells": [
  {
   "cell_type": "code",
   "execution_count": 10,
   "metadata": {
    "colab": {
     "base_uri": "https://localhost:8080/"
    },
    "id": "_maEvfysa4kQ",
    "outputId": "5b600e69-11b8-4982-925a-81cd0e130c37"
   },
   "outputs": [],
   "source": [
    "from keras.models import Sequential\n",
    "from keras.layers import *\n",
    "import numpy as np\n",
    "\n",
    "\n",
    "def start(neuron1, neuron2):\n",
    "    m = Sequential() \n",
    "    m.add(Dense(neuron1,input_dim=2, activation='tanh'))\n",
    "    m.add(Dense(neuron2,input_dim=2, activation='tanh'))\n",
    "    m.add(Dense(1,activation='sigmoid'))\n",
    "\n",
    "    X = np.array([[0,0],[0,1],[1,0],[1,1]],'float32')\n",
    "    Y = np.array([[0],[1],[1],[0]],'float32')\n",
    "    m.compile(optimizer='adam',loss='binary_crossentropy')\n",
    "\n",
    "\n",
    "    m.fit(X,Y,batch_size=1,epochs=200,verbose=0)\n",
    "    print(m.predict(X))\n",
    "\n",
    "    print('Bramka OR')\n",
    "    X1 = np.array([[0,0],[0,1],[1,0],[1,1]],'float32')\n",
    "    Y1 = np.array([[0],[1],[1],[1]],'float32')\n",
    "\n",
    "    m.fit(X1,Y1,batch_size=1,epochs=200,verbose=0)\n",
    "    print(m.predict(X1))\n",
    "\n",
    "    X2 = np.array([[0,0],[0,1],[1,0],[1,1]],'float32')\n",
    "    Y2 = np.array([[1],[0],[0],[0]],'float32')\n",
    "\n",
    "    print('Bramka NOR')\n",
    "    m.fit(X2,Y2,batch_size=1,epochs=200,verbose=0)\n",
    "    print(m.predict(X2))\n",
    "\n",
    "    X3 = np.array([[0,0],[0,1],[1,0],[1,1]],'float32')\n",
    "    Y3 = np.array([[0],[0],[0],[1]],'float32')\n",
    "\n",
    "    print('Bramka AND')\n",
    "    m.fit(X3,Y3,batch_size=1,epochs=200,verbose=0)\n",
    "    print(m.predict(X3))\n",
    "\n",
    "    X4 = np.array([[0,0],[0,1],[1,0],[1,1]],'float32')\n",
    "    Y4 = np.array([[1],[1],[1],[0]],'float32')\n",
    "\n",
    "    print('Bramka NAND')\n",
    "    m.fit(X4,Y4,batch_size=1,epochs=200,verbose=0)\n",
    "    print(m.predict(X4))\n",
    "\n",
    "\n"
   ]
  },
  {
   "cell_type": "code",
   "execution_count": 13,
   "metadata": {},
   "outputs": [
    {
     "name": "stdout",
     "output_type": "stream",
     "text": [
      "Wynik dla architektury 1\n",
      "1/1 [==============================] - 0s 149ms/step\n",
      "[[0.4437867 ]\n",
      " [0.51095176]\n",
      " [0.60160565]\n",
      " [0.5412515 ]]\n",
      "Bramka OR\n",
      "1/1 [==============================] - 0s 117ms/step\n",
      "[[0.12893698]\n",
      " [0.95437986]\n",
      " [0.94997495]\n",
      " [0.98796374]]\n",
      "Bramka NOR\n",
      "1/1 [==============================] - 0s 53ms/step\n",
      "[[0.84974957]\n",
      " [0.03900084]\n",
      " [0.05902585]\n",
      " [0.00837822]]\n",
      "Bramka AND\n",
      "1/1 [==============================] - 0s 60ms/step\n",
      "[[0.04662193]\n",
      " [0.22826184]\n",
      " [0.14914171]\n",
      " [0.64928997]]\n",
      "Bramka NAND\n",
      "1/1 [==============================] - 0s 51ms/step\n",
      "[[0.8962932 ]\n",
      " [0.71501076]\n",
      " [0.7917326 ]\n",
      " [0.4779765 ]]\n"
     ]
    }
   ],
   "source": [
    "print(\"Wynik dla architektury 1\")\n",
    "start(5,8)"
   ]
  },
  {
   "cell_type": "code",
   "execution_count": 14,
   "metadata": {},
   "outputs": [
    {
     "name": "stdout",
     "output_type": "stream",
     "text": [
      "Wynik dla architektury 2\n",
      "1/1 [==============================] - 0s 188ms/step\n",
      "[[0.40227708]\n",
      " [0.6208054 ]\n",
      " [0.589069  ]\n",
      " [0.58521664]]\n",
      "Bramka OR\n",
      "1/1 [==============================] - 0s 118ms/step\n",
      "[[0.08151042]\n",
      " [0.95852816]\n",
      " [0.9677428 ]\n",
      " [0.9802237 ]]\n",
      "Bramka NOR\n",
      "1/1 [==============================] - 0s 63ms/step\n",
      "[[0.90438753]\n",
      " [0.04395578]\n",
      " [0.02556837]\n",
      " [0.01264445]]\n",
      "Bramka AND\n",
      "1/1 [==============================] - 0s 63ms/step\n",
      "[[0.06439109]\n",
      " [0.12826653]\n",
      " [0.1712751 ]\n",
      " [0.58346397]]\n",
      "Bramka NAND\n",
      "1/1 [==============================] - 0s 63ms/step\n",
      "[[0.740189  ]\n",
      " [0.7110915 ]\n",
      " [0.66092956]\n",
      " [0.56116843]]\n"
     ]
    }
   ],
   "source": [
    "print(\"Wynik dla architektury 2\")\n",
    "start(4,9)"
   ]
  },
  {
   "cell_type": "code",
   "execution_count": null,
   "metadata": {},
   "outputs": [],
   "source": []
  }
 ],
 "metadata": {
  "colab": {
   "provenance": []
  },
  "kernelspec": {
   "display_name": "Python 3 (ipykernel)",
   "language": "python",
   "name": "python3"
  },
  "language_info": {
   "codemirror_mode": {
    "name": "ipython",
    "version": 3
   },
   "file_extension": ".py",
   "mimetype": "text/x-python",
   "name": "python",
   "nbconvert_exporter": "python",
   "pygments_lexer": "ipython3",
   "version": "3.9.7"
  }
 },
 "nbformat": 4,
 "nbformat_minor": 1
}
